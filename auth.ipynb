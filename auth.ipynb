{
 "cells": [
  {
   "cell_type": "markdown",
   "metadata": {
    "application/vnd.databricks.v1+cell": {
     "cellMetadata": {
      "byteLimit": 2048000,
      "rowLimit": 10000
     },
     "inputWidgets": {},
     "nuid": "0a049c34-b641-4b10-a228-b7c3f932a15e",
     "showTitle": false,
     "tableResultSettingsMap": {},
     "title": ""
    }
   },
   "source": [
    "# Install libs"
   ]
  },
  {
   "cell_type": "code",
   "execution_count": 0,
   "metadata": {
    "application/vnd.databricks.v1+cell": {
     "cellMetadata": {
      "byteLimit": 2048000,
      "rowLimit": 10000
     },
     "inputWidgets": {},
     "nuid": "aef81f78-999c-4469-97b8-368a02cdb22a",
     "showTitle": false,
     "tableResultSettingsMap": {},
     "title": ""
    }
   },
   "outputs": [],
   "source": [
    "%pip install stravalib"
   ]
  },
  {
   "cell_type": "code",
   "execution_count": 0,
   "metadata": {
    "application/vnd.databricks.v1+cell": {
     "cellMetadata": {
      "byteLimit": 2048000,
      "rowLimit": 10000
     },
     "inputWidgets": {},
     "nuid": "5c266de4-9827-4741-9a9d-69f89461dd59",
     "showTitle": false,
     "tableResultSettingsMap": {},
     "title": ""
    }
   },
   "outputs": [],
   "source": [
    "# import time\n",
    "\n",
    "# from databricks.sdk import WorkspaceClient\n",
    "\n",
    "# w = WorkspaceClient()\n",
    "\n",
    "# scope_name = \"strava\"\n",
    "# key_name = \"expires_at\"\n",
    "# string_value = \"1754940168\"\n",
    "\n",
    "# w.secrets.put_secret(scope=scope_name, key=key_name, string_value=string_value)"
   ]
  },
  {
   "cell_type": "code",
   "execution_count": 0,
   "metadata": {
    "application/vnd.databricks.v1+cell": {
     "cellMetadata": {
      "byteLimit": 2048000,
      "rowLimit": 10000
     },
     "inputWidgets": {},
     "nuid": "c0074670-157f-4a1f-8901-1acc0597092c",
     "showTitle": false,
     "tableResultSettingsMap": {},
     "title": ""
    }
   },
   "outputs": [],
   "source": [
    "# new_tokens = client.refresh_access_token(\n",
    "#     client_id=dbutils.secrets.get(scope = \"strava\", key = \"client_id\"),\n",
    "#     client_secret=dbutils.secrets.get(scope = \"strava\", key = \"client_secret\"),\n",
    "#     refresh_token=dbutils.secrets.get(scope = \"strava\", key = \"refresh_token\")\n",
    "# )\n",
    "# print(new_tokens[\"expires_at\"])"
   ]
  },
  {
   "cell_type": "markdown",
   "metadata": {
    "application/vnd.databricks.v1+cell": {
     "cellMetadata": {
      "byteLimit": 2048000,
      "rowLimit": 10000
     },
     "inputWidgets": {},
     "nuid": "620e5afc-f536-4e9d-af78-6de832f2cf6a",
     "showTitle": false,
     "tableResultSettingsMap": {},
     "title": ""
    }
   },
   "source": [
    "# Setup environment variables"
   ]
  },
  {
   "cell_type": "code",
   "execution_count": 0,
   "metadata": {
    "application/vnd.databricks.v1+cell": {
     "cellMetadata": {
      "byteLimit": 2048000,
      "rowLimit": 10000
     },
     "inputWidgets": {},
     "nuid": "6a062112-ce7a-4886-9c4a-0154627ad1e1",
     "showTitle": false,
     "tableResultSettingsMap": {},
     "title": ""
    }
   },
   "outputs": [],
   "source": [
    "import os\n",
    "\n",
    "os.environ[\"STRAVA_CLIENT_ID\"] = dbutils.secrets.get(scope = \"strava\", key = \"client_id\")\n",
    "os.environ[\"STRAVA_CLIENT_SECRET\"] = dbutils.secrets.get(scope = \"strava\", key = \"client_secret\")"
   ]
  },
  {
   "cell_type": "markdown",
   "metadata": {
    "application/vnd.databricks.v1+cell": {
     "cellMetadata": {
      "byteLimit": 2048000,
      "rowLimit": 10000
     },
     "inputWidgets": {},
     "nuid": "5edffb18-8b08-40e7-959b-4fb7ff22b44c",
     "showTitle": false,
     "tableResultSettingsMap": {},
     "title": ""
    }
   },
   "source": [
    "# Instantiate a client object"
   ]
  },
  {
   "cell_type": "code",
   "execution_count": 0,
   "metadata": {
    "application/vnd.databricks.v1+cell": {
     "cellMetadata": {
      "byteLimit": 2048000,
      "rowLimit": 10000
     },
     "inputWidgets": {},
     "nuid": "9248ccb5-80f7-4181-8d56-75d6e0b18b07",
     "showTitle": false,
     "tableResultSettingsMap": {},
     "title": ""
    }
   },
   "outputs": [],
   "source": [
    "import time\n",
    "from stravalib import Client\n",
    "\n",
    "# --- Strava client ---\n",
    "client = Client(\n",
    "    access_token=dbutils.secrets.get(scope = \"strava\", key = \"access_token\"),\n",
    "    refresh_token=dbutils.secrets.get(scope = \"strava\", key = \"refresh_token\"),\n",
    "    token_expires=int(dbutils.secrets.get(scope = \"strava\", key = \"expires_at\")),\n",
    ")\n",
    "\n",
    "# --- API call ---\n",
    "athlete = client.get_athlete()\n",
    "print(f\"Hi, {athlete.firstname} {athlete.lastname} Welcome to stravalib!\")"
   ]
  },
  {
   "cell_type": "code",
   "execution_count": 0,
   "metadata": {
    "application/vnd.databricks.v1+cell": {
     "cellMetadata": {
      "byteLimit": 2048000,
      "rowLimit": 10000
     },
     "inputWidgets": {},
     "nuid": "96f3dbb2-2d53-44ac-9e62-a73514c319ec",
     "showTitle": false,
     "tableResultSettingsMap": {},
     "title": ""
    }
   },
   "outputs": [],
   "source": [
    "activities = client.get_activities()\n",
    "print(activities)"
   ]
  },
  {
   "cell_type": "code",
   "execution_count": 0,
   "metadata": {
    "application/vnd.databricks.v1+cell": {
     "cellMetadata": {
      "byteLimit": 2048000,
      "rowLimit": 10000
     },
     "inputWidgets": {},
     "nuid": "59ec48fd-562c-4117-a008-549f3ca4e1e3",
     "showTitle": false,
     "tableResultSettingsMap": {},
     "title": ""
    }
   },
   "outputs": [],
   "source": [
    "for i, activity in enumerate(activities):\n",
    "    print(activity.name)"
   ]
  }
 ],
 "metadata": {
  "application/vnd.databricks.v1+notebook": {
   "computePreferences": null,
   "dashboards": [],
   "environmentMetadata": {
    "base_environment": "",
    "environment_version": "2"
   },
   "inputWidgetPreferences": null,
   "language": "python",
   "notebookMetadata": {
    "pythonIndentUnit": 4
   },
   "notebookName": "auth",
   "widgets": {}
  },
  "language_info": {
   "name": "python"
  }
 },
 "nbformat": 4,
 "nbformat_minor": 0
}
