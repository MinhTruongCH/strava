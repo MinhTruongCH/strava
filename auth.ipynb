{
 "cells": [
  {
   "cell_type": "code",
   "execution_count": 0,
   "metadata": {
    "application/vnd.databricks.v1+cell": {
     "cellMetadata": {},
     "inputWidgets": {},
     "nuid": "aef81f78-999c-4469-97b8-368a02cdb22a",
     "showTitle": false,
     "tableResultSettingsMap": {},
     "title": ""
    }
   },
   "outputs": [],
   "source": [
    "%pip install stravalib"
   ]
  },
  {
   "cell_type": "code",
   "execution_count": 0,
   "metadata": {
    "application/vnd.databricks.v1+cell": {
     "cellMetadata": {},
     "inputWidgets": {},
     "nuid": "9248ccb5-80f7-4181-8d56-75d6e0b18b07",
     "showTitle": false,
     "tableResultSettingsMap": {},
     "title": ""
    }
   },
   "outputs": [],
   "source": [
    "import time\n",
    "from stravalib import Client\n",
    "\n",
    "ACCESS_TOKEN = dbutils.secrets.get(scope = \"strava\", key = \"access_token\")\n",
    "REFRESH_TOKEN = dbutils.secrets.get(scope = \"strava\", key = \"refresh_token\")\n",
    "EXPIRES_AT = 1754914810\n",
    "\n",
    "# --- Client Strava ---\n",
    "client = Client(\n",
    "    access_token=ACCESS_TOKEN,\n",
    "    refresh_token=REFRESH_TOKEN,\n",
    "    token_expires=EXPIRES_AT,\n",
    ")\n",
    "\n",
    "# --- Exemple d'appel API ---\n",
    "athlete = client.get_athlete()\n",
    "print(f\"Hi, {athlete.firstname} Welcome to stravalib!\")\n",
    "print(\"expires_at =\", client.token_expires)"
   ]
  }
 ],
 "metadata": {
  "application/vnd.databricks.v1+notebook": {
   "computePreferences": null,
   "dashboards": [],
   "environmentMetadata": {
    "base_environment": "",
    "environment_version": "2"
   },
   "inputWidgetPreferences": null,
   "language": "python",
   "notebookMetadata": {
    "pythonIndentUnit": 4
   },
   "notebookName": "auth",
   "widgets": {}
  },
  "language_info": {
   "name": "python"
  }
 },
 "nbformat": 4,
 "nbformat_minor": 0
}
