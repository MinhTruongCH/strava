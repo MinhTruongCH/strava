{
 "cells": [
  {
   "cell_type": "code",
   "execution_count": 0,
   "metadata": {
    "application/vnd.databricks.v1+cell": {
     "cellMetadata": {
      "byteLimit": 2048000,
      "rowLimit": 10000
     },
     "inputWidgets": {},
     "nuid": "aef81f78-999c-4469-97b8-368a02cdb22a",
     "showTitle": false,
     "tableResultSettingsMap": {},
     "title": ""
    }
   },
   "outputs": [],
   "source": [
    "%pip install stravalib"
   ]
  },
  {
   "cell_type": "markdown",
   "metadata": {
    "application/vnd.databricks.v1+cell": {
     "cellMetadata": {
      "byteLimit": 2048000,
      "rowLimit": 10000
     },
     "inputWidgets": {},
     "nuid": "620e5afc-f536-4e9d-af78-6de832f2cf6a",
     "showTitle": false,
     "tableResultSettingsMap": {},
     "title": ""
    }
   },
   "source": [
    "# Set environment variables"
   ]
  },
  {
   "cell_type": "code",
   "execution_count": 0,
   "metadata": {
    "application/vnd.databricks.v1+cell": {
     "cellMetadata": {
      "byteLimit": 2048000,
      "rowLimit": 10000
     },
     "inputWidgets": {},
     "nuid": "6a062112-ce7a-4886-9c4a-0154627ad1e1",
     "showTitle": false,
     "tableResultSettingsMap": {},
     "title": ""
    }
   },
   "outputs": [],
   "source": [
    "import os\n",
    "\n",
    "os.environ[\"STRAVA_CLIENT_ID\"] = dbutils.secrets.get(scope = \"strava\", key = \"client_id\")\n",
    "os.environ[\"STRAVA_CLIENT_SECRET\"] = dbutils.secrets.get(scope = \"strava\", key = \"client_secret\")"
   ]
  },
  {
   "cell_type": "code",
   "execution_count": 0,
   "metadata": {
    "application/vnd.databricks.v1+cell": {
     "cellMetadata": {
      "byteLimit": 2048000,
      "rowLimit": 10000
     },
     "inputWidgets": {},
     "nuid": "9248ccb5-80f7-4181-8d56-75d6e0b18b07",
     "showTitle": false,
     "tableResultSettingsMap": {},
     "title": ""
    }
   },
   "outputs": [],
   "source": [
    "import time\n",
    "from stravalib import Client\n",
    "\n",
    "# --- Strava client ---\n",
    "client = Client(\n",
    "    access_token=dbutils.secrets.get(scope = \"strava\", key = \"access_token\"),\n",
    "    refresh_token=dbutils.secrets.get(scope = \"strava\", key = \"refresh_token\"),\n",
    "    token_expires=int(dbutils.secrets.get(scope = \"strava\", key = \"expires_at\")),\n",
    ")\n",
    "\n",
    "# --- API call ---\n",
    "athlete = client.get_athlete()\n",
    "print(f\"Hi, {athlete.firstname} Welcome to stravalib!\")\n",
    "print(\"expires_at =\", client.token_expires)"
   ]
  }
 ],
 "metadata": {
  "application/vnd.databricks.v1+notebook": {
   "computePreferences": null,
   "dashboards": [],
   "environmentMetadata": {
    "base_environment": "",
    "environment_version": "2"
   },
   "inputWidgetPreferences": null,
   "language": "python",
   "notebookMetadata": {
    "pythonIndentUnit": 4
   },
   "notebookName": "auth",
   "widgets": {}
  },
  "language_info": {
   "name": "python"
  }
 },
 "nbformat": 4,
 "nbformat_minor": 0
}
