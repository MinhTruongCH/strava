{
 "cells": [
  {
   "cell_type": "markdown",
   "metadata": {
    "application/vnd.databricks.v1+cell": {
     "cellMetadata": {
      "byteLimit": 2048000,
      "rowLimit": 10000
     },
     "inputWidgets": {},
     "nuid": "0a049c34-b641-4b10-a228-b7c3f932a15e",
     "showTitle": false,
     "tableResultSettingsMap": {},
     "title": ""
    }
   },
   "source": [
    "# Install libs"
   ]
  },
  {
   "cell_type": "code",
   "execution_count": 0,
   "metadata": {
    "application/vnd.databricks.v1+cell": {
     "cellMetadata": {
      "byteLimit": 2048000,
      "rowLimit": 10000
     },
     "inputWidgets": {},
     "nuid": "aef81f78-999c-4469-97b8-368a02cdb22a",
     "showTitle": false,
     "tableResultSettingsMap": {},
     "title": ""
    }
   },
   "outputs": [],
   "source": [
    "%pip install stravalib"
   ]
  },
  {
   "cell_type": "markdown",
   "metadata": {
    "application/vnd.databricks.v1+cell": {
     "cellMetadata": {
      "byteLimit": 2048000,
      "rowLimit": 10000
     },
     "inputWidgets": {},
     "nuid": "620e5afc-f536-4e9d-af78-6de832f2cf6a",
     "showTitle": false,
     "tableResultSettingsMap": {},
     "title": ""
    }
   },
   "source": [
    "# Setup environment variables"
   ]
  },
  {
   "cell_type": "code",
   "execution_count": 0,
   "metadata": {
    "application/vnd.databricks.v1+cell": {
     "cellMetadata": {
      "byteLimit": 2048000,
      "rowLimit": 10000
     },
     "inputWidgets": {},
     "nuid": "6a062112-ce7a-4886-9c4a-0154627ad1e1",
     "showTitle": false,
     "tableResultSettingsMap": {},
     "title": ""
    }
   },
   "outputs": [],
   "source": [
    "import os\n",
    "\n",
    "os.environ[\"STRAVA_CLIENT_ID\"] = dbutils.secrets.get(scope = \"strava\", key = \"client_id\")\n",
    "os.environ[\"STRAVA_CLIENT_SECRET\"] = dbutils.secrets.get(scope = \"strava\", key = \"client_secret\")"
   ]
  },
  {
   "cell_type": "markdown",
   "metadata": {
    "application/vnd.databricks.v1+cell": {
     "cellMetadata": {
      "byteLimit": 2048000,
      "rowLimit": 10000
     },
     "inputWidgets": {},
     "nuid": "5edffb18-8b08-40e7-959b-4fb7ff22b44c",
     "showTitle": false,
     "tableResultSettingsMap": {},
     "title": ""
    }
   },
   "source": [
    "# Instantiate a client object"
   ]
  },
  {
   "cell_type": "code",
   "execution_count": 0,
   "metadata": {
    "application/vnd.databricks.v1+cell": {
     "cellMetadata": {
      "byteLimit": 2048000,
      "rowLimit": 10000
     },
     "inputWidgets": {},
     "nuid": "9248ccb5-80f7-4181-8d56-75d6e0b18b07",
     "showTitle": false,
     "tableResultSettingsMap": {},
     "title": ""
    }
   },
   "outputs": [],
   "source": [
    "import time\n",
    "from stravalib import Client\n",
    "\n",
    "# --- Strava client ---\n",
    "client = Client(\n",
    "    access_token=dbutils.secrets.get(scope = \"strava\", key = \"access_token\"),\n",
    "    refresh_token=dbutils.secrets.get(scope = \"strava\", key = \"refresh_token\"),\n",
    "    token_expires=int(dbutils.secrets.get(scope = \"strava\", key = \"expires_at\")),\n",
    ")\n",
    "\n",
    "# --- API call ---\n",
    "athlete = client.get_athlete()\n",
    "print(f\"Hi, {athlete.firstname} {athlete.lastname} Welcome to stravalib!\")"
   ]
  },
  {
   "cell_type": "markdown",
   "metadata": {
    "application/vnd.databricks.v1+cell": {
     "cellMetadata": {
      "byteLimit": 2048000,
      "rowLimit": 10000
     },
     "inputWidgets": {},
     "nuid": "e8c3a4fd-e001-486b-8774-0ab23c9fad30",
     "showTitle": false,
     "tableResultSettingsMap": {},
     "title": ""
    }
   },
   "source": [
    "# Save data to catalog"
   ]
  },
  {
   "cell_type": "code",
   "execution_count": 0,
   "metadata": {
    "application/vnd.databricks.v1+cell": {
     "cellMetadata": {
      "byteLimit": 2048000,
      "rowLimit": 10000
     },
     "inputWidgets": {},
     "nuid": "ec15f001-fc91-4984-b948-2b950fa9760d",
     "showTitle": false,
     "tableResultSettingsMap": {},
     "title": ""
    }
   },
   "outputs": [],
   "source": [
    "from pyspark.sql.types import StructType, StructField, StringType, TimestampType, DoubleType, IntegerType\n",
    "\n",
    "activity_schema = StructType([\n",
    "    StructField(\"id\", StringType(), False),\n",
    "    StructField(\"name\", StringType(), True),\n",
    "    StructField(\"start_date_local\", TimestampType(), True),\n",
    "    StructField(\"average_speed_mps\", DoubleType(), True),\n",
    "    StructField(\"distance_m\", DoubleType(), True),\n",
    "    StructField(\"total_elevation_gain_m\", DoubleType(), True),\n",
    "    StructField(\"sport_type\", StringType(), True),\n",
    "    StructField(\"pr_count\", IntegerType(), True),\n",
    "    StructField(\"kudos_count\", IntegerType(), True)\n",
    "])\n",
    "\n",
    "\n",
    "activities_list = []\n",
    "for activity in client.get_activities():\n",
    "    activities_list.append({\n",
    "        \"id\": str(activity.id),\n",
    "        \"name\": activity.name,\n",
    "        \"start_date_local\": activity.start_date_local,\n",
    "        \"average_speed_mps\": float(activity.average_speed) if activity.average_speed else None,\n",
    "        \"distance_m\": float(activity.distance) if activity.distance else None,\n",
    "        \"total_elevation_gain_m\": float(activity.total_elevation_gain) if activity.total_elevation_gain else None,\n",
    "        \"sport_type\": activity.sport_type,\n",
    "        \"pr_count\": int(activity.pr_count) if activity.pr_count is not None else None,\n",
    "        \"kudos_count\": int(activity.kudos_count) if activity.kudos_count is not None else None\n",
    "    })\n",
    "\n",
    "df = spark.createDataFrame(activities_list, schema=activity_schema)\n",
    "df.write.format(\"delta\").mode(\"overwrite\").saveAsTable(\"workspace.default.bronze_strava_activities\")"
   ]
  }
 ],
 "metadata": {
  "application/vnd.databricks.v1+notebook": {
   "computePreferences": null,
   "dashboards": [],
   "environmentMetadata": {
    "base_environment": "",
    "environment_version": "2"
   },
   "inputWidgetPreferences": null,
   "language": "python",
   "notebookMetadata": {
    "pythonIndentUnit": 4
   },
   "notebookName": "bronze_strava_activities",
   "widgets": {}
  },
  "language_info": {
   "name": "python"
  }
 },
 "nbformat": 4,
 "nbformat_minor": 0
}
